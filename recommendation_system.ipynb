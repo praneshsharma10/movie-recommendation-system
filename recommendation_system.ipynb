{
  "cells": [
    {
      "cell_type": "code",
      "execution_count": null,
      "metadata": {
        "id": "Ygz6JAqqqAib"
      },
      "outputs": [],
      "source": [
        "import numpy as np\n",
        "import pandas as pd\n",
        "import difflib\n",
        "from sklearn.feature_extraction.text import TfidfVectorizer\n",
        "from sklearn.metrics.pairwise import cosine_similarity\n"
      ]
    },
    {
      "cell_type": "code",
      "execution_count": null,
      "metadata": {
        "id": "FUix2TV9rMQ-"
      },
      "outputs": [],
      "source": [
        "movies_data = pd.read_csv('/content/movies.csv')\n"
      ]
    },
    {
      "cell_type": "code",
      "execution_count": null,
      "metadata": {
        "id": "MzNha7LSrYSu"
      },
      "outputs": [],
      "source": [
        "\n",
        "# Selecting relevant features\n",
        "selected_features = ['genres', 'keywords', 'tagline', 'cast', 'director']\n"
      ]
    },
    {
      "cell_type": "code",
      "execution_count": null,
      "metadata": {
        "colab": {
          "base_uri": "https://localhost:8080/"
        },
        "id": "efxcCMfssMR8",
        "outputId": "aeca00dc-f32c-4ade-8824-97317b735ced"
      },
      "outputs": [
        {
          "name": "stdout",
          "output_type": "stream",
          "text": [
            "Index(['movie_id', 'title', 'cast', 'crew'], dtype='object')\n"
          ]
        }
      ],
      "source": [
        "print(movies_data.columns)"
      ]
    },
    {
      "cell_type": "code",
      "execution_count": null,
      "metadata": {
        "id": "xg_aMpfCra1J"
      },
      "outputs": [],
      "source": [
        "for feature in selected_features:\n",
        "    if feature in movies_data.columns:  # Check if the column exists before filling missing values\n",
        "        movies_data[feature] = movies_data[feature].fillna('')"
      ]
    },
    {
      "cell_type": "code",
      "execution_count": null,
      "metadata": {
        "colab": {
          "background_save": true,
          "base_uri": "https://localhost:8080/"
        },
        "id": "MQ9_5HY75W33",
        "outputId": "81d3426f-b309-4a52-9a31-cddec10b0cdd"
      },
      "outputs": [],
      "source": [
        "for feature in selected_features:\n",
        "    if feature not in movies_data.columns:\n",
        "        print(f\"Warning: Column '{feature}' not found in the DataFrame.\")\n",
        "\n",
        "# Fill missing values in existing columns\n",
        "for feature in selected_features:\n",
        "    if feature in movies_data.columns:\n",
        "        movies_data[feature] = movies_data[feature].fillna('')\n",
        "\n",
        "# Combine features (only if they exist)\n",
        "combined_features_list = [] # Initialize as a list\n",
        "for feature in selected_features:\n",
        "    if feature in movies_data.columns:\n",
        "        combined_features_list.append(movies_data[feature]) # Append each Series to the list\n",
        "\n",
        "# Combine the Series in the list into a single Series\n",
        "combined_features_series = pd.concat(combined_features_list, axis=0)\n",
        "\n",
        "# Convert the combined Series to a string, then strip\n",
        "combined_features_string = combined_features_series.astype(str).str.cat(sep=' ').strip()\n",
        "\n",
        "print(combined_features_string)"
      ]
    },
    {
      "cell_type": "code",
      "execution_count": null,
      "metadata": {
        "id": "R5bMqy8Y4N-r"
      },
      "outputs": [],
      "source": [
        "vectorizer = TfidfVectorizer()\n",
        "feature_vectors = vectorizer.fit_transform(combined_features)"
      ]
    },
    {
      "cell_type": "code",
      "execution_count": null,
      "metadata": {
        "id": "KAFym8i54gaD"
      },
      "outputs": [],
      "source": [
        "similarity = cosine_similarity(feature_vectors)\n"
      ]
    },
    {
      "cell_type": "code",
      "execution_count": null,
      "metadata": {
        "id": "Jy75riLc4iuu"
      },
      "outputs": [],
      "source": [
        "similarity = cosine_similarity(feature_vectors)\n"
      ]
    },
    {
      "cell_type": "code",
      "execution_count": null,
      "metadata": {
        "id": "FOUvmVdb54ax"
      },
      "outputs": [],
      "source": [
        "\n",
        "# Function to recommend movies\n",
        "def recommend(movie_name):\n",
        "    list_of_all_titles = movies_data['title'].tolist()\n",
        "    find_close_match = difflib.get_close_matches(movie_name, list_of_all_titles)\n",
        "\n",
        "    if find_close_match:\n",
        "        close_match = find_close_match[0]\n",
        "        index_of_the_movie = movies_data[movies_data.title == close_match].index[0]\n",
        "        similarity_score = list(enumerate(similarity[index_of_the_movie]))\n",
        "        sorted_similar_movies = sorted(similarity_score, key=lambda x: x[1], reverse=True)\n",
        "\n",
        "        print('Movies suggested for you:')\n",
        "        for i, movie in enumerate(sorted_similar_movies[1:6], 1):\n",
        "            similar_movie_title = movies_data.iloc[movie[0]]['title']\n",
        "            print(f\"{i}. {similar_movie_title}\")\n",
        "    else:\n",
        "        print(\"No close match found for the given movie name.\")\n"
      ]
    },
    {
      "cell_type": "code",
      "execution_count": null,
      "metadata": {
        "colab": {
          "base_uri": "https://localhost:8080/"
        },
        "id": "TcneJ3d756sr",
        "outputId": "dbc68ae0-8047-431b-c10b-706678185e7a"
      },
      "outputs": [
        {
          "name": "stdout",
          "output_type": "stream",
          "text": [
            "Movies suggested for you:\n",
            "1. American Gangster\n",
            "2. Contact\n",
            "3. The Dark Knight\n",
            "4. Django Unchained\n",
            "5. The Life of David Gale\n"
          ]
        }
      ],
      "source": [
        "\n",
        "# Example usage\n",
        "recommend('interstellar')"
      ]
    }
  ],
  "metadata": {
    "colab": {
      "provenance": []
    },
    "kernelspec": {
      "display_name": "Python 3",
      "name": "python3"
    },
    "language_info": {
      "name": "python"
    }
  },
  "nbformat": 4,
  "nbformat_minor": 0
}